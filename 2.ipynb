{
 "metadata": {
  "language_info": {
   "codemirror_mode": {
    "name": "ipython",
    "version": 3
   },
   "file_extension": ".py",
   "mimetype": "text/x-python",
   "name": "python",
   "nbconvert_exporter": "python",
   "pygments_lexer": "ipython3",
   "version": "3.8.5-final"
  },
  "orig_nbformat": 2,
  "kernelspec": {
   "name": "python38564bitscrappyconda0e1478eaa91247eaaadbc622b86e55ca",
   "display_name": "Python 3.8.5 64-bit ('Scrappy': conda)"
  }
 },
 "nbformat": 4,
 "nbformat_minor": 2,
 "cells": [
  {
   "cell_type": "code",
   "execution_count": 1,
   "metadata": {},
   "outputs": [],
   "source": [
    "from selenium import webdriver\n",
    "from pathlib import Path\n",
    "import pickle\n",
    "import time"
   ]
  },
  {
   "cell_type": "code",
   "execution_count": 2,
   "metadata": {},
   "outputs": [],
   "source": [
    "web = webdriver.Chrome(\"/home/kaafibored/Projects/Linkden_Scraper/chromedriver\")"
   ]
  },
  {
   "cell_type": "code",
   "execution_count": 3,
   "metadata": {},
   "outputs": [],
   "source": [
    "cookiepath = \"/home/kaafibored/Projects/Linkden_Scraper/\"\n",
    "web.get(\"https://www.linkedin.com\")\n",
    "cookies = pickle.load(open(cookiepath + \"cookies.pkl\", \"rb\"))\n",
    "for cookie in cookies:\n",
    "    web.add_cookie(cookie)"
   ]
  },
  {
   "cell_type": "code",
   "execution_count": 59,
   "metadata": {},
   "outputs": [],
   "source": [
    "links = [] \n",
    "web.get(\"https://www.linkedin.com/search/results/companies/?keywords=Google\")\n",
    "web.maximize_window()"
   ]
  },
  {
   "cell_type": "code",
   "execution_count": 60,
   "metadata": {},
   "outputs": [],
   "source": [
    "\n",
    "import re\n",
    "from selenium.webdriver.common.keys import Keys\n"
   ]
  },
  {
   "cell_type": "code",
   "execution_count": 61,
   "metadata": {
    "tags": []
   },
   "outputs": [
    {
     "output_type": "stream",
     "name": "stdout",
     "text": "page :0\n['', '', 'Follow', 'Follow', 'Follow', 'Follow', 'Follow', 'Follow', 'Follow', 'Follow', 'Follow', 'Follow', 'Previous', 'Next', 'Compose message']\npage :1\n['', '', 'Follow', 'Follow', 'Follow', 'Follow', 'Follow', 'Follow', 'Follow', 'Follow', 'Follow', 'Follow', 'Previous', 'Next', 'Compose message']\npage :2\n['', '', 'Follow', 'Follow', 'Follow', 'Follow', 'Follow', 'Follow', 'Follow', 'Follow', 'Follow', 'Follow', 'Previous', 'Next', 'Compose message']\npage :3\n['', '', 'Follow', 'Follow', 'Follow', 'Follow', 'Follow', 'Follow', 'Follow', 'Follow', 'Follow', 'Follow', 'Previous', 'Next', 'Compose message']\npage :4\n['', '', 'Follow', 'Follow', 'Follow', 'Follow', 'Follow', 'Follow', 'Follow', 'Follow', 'Follow', 'Follow', 'Previous', 'Next', 'Compose message']\n"
    },
    {
     "output_type": "execute_result",
     "data": {
      "text/plain": "(['https://www.linkedin.com/company/google/',\n  'https://www.linkedin.com/company/google-developers-group---twin-cities-gdg-tc-/',\n  'https://www.linkedin.com/company/google-seo-page-1-google-/',\n  'https://www.linkedin.com/company/google-analytics-for-business/',\n  'https://www.linkedin.com/company/gdgcloudtoronto/',\n  'https://www.linkedin.com/company/googledevelopers/',\n  'https://www.linkedin.com/company/google-adsense/',\n  'https://www.linkedin.com/company/goog-ads/',\n  'https://www.linkedin.com/company/google-india/',\n  'https://www.linkedin.com/company/google-cloud-platform-certified/',\n  'https://www.linkedin.com/company/google-pay/',\n  'https://www.linkedin.com/company/dsc-dtu/',\n  'https://www.linkedin.com/company/titan-aerospace/',\n  'https://www.linkedin.com/company/google-crowdsource/',\n  'https://www.linkedin.com/company/google-stadia/',\n  'https://www.linkedin.com/company/google-india1/',\n  'https://www.linkedin.com/company/activatecongoogle/',\n  'https://www.linkedin.com/company/google-digital-garage-uk/',\n  'https://www.linkedin.com/company/google-via-adecco/',\n  'https://www.linkedin.com/company/googledevelopersgroup/',\n  'https://www.linkedin.com/company/googleoperationscenter/',\n  'https://www.linkedin.com/company/googlehk/',\n  'https://www.linkedin.com/company/digitalskillsforafrica/',\n  'https://www.linkedin.com/company/google-summer-of-code-2019/',\n  'https://www.linkedin.com/company/google-mobileacademy/',\n  'https://www.linkedin.com/company/googleadwordscertified/',\n  'https://www.linkedin.com/company/google-digital-unlocked/',\n  'https://www.linkedin.com/company/webpass-inc-/',\n  'https://www.linkedin.com/company/google-website-analytics/',\n  'https://www.linkedin.com/company/google-code-in/',\n  'https://www.linkedin.com/company/google-via-artech-information-systems/',\n  'https://www.linkedin.com/company/google-for-startups-israel/',\n  'https://www.linkedin.com/company/google-stationf/',\n  'https://www.linkedin.com/company/succes-online/',\n  'https://www.linkedin.com/company/google-digital-academy-skillshop/',\n  'https://www.linkedin.com/company/google-crowdsource-sri-lanka/',\n  'https://www.linkedin.com/company/google-campus/',\n  'https://www.linkedin.com/company/gdg-campinas/',\n  'https://www.linkedin.com/company/google-digital-news-initiatiave/',\n  'https://www.linkedin.com/company/google-pour-les-pros/',\n  'https://www.linkedin.com/company/geoambiente-/',\n  'https://www.linkedin.com/company/tigabytes/',\n  'https://www.linkedin.com/company/digital-marketing-google-certification/',\n  'https://www.linkedin.com/company/flutterofficial/',\n  'https://www.linkedin.com/company/qi-network-google-cloud-partner/',\n  'https://www.linkedin.com/company/think-with-google-apac/',\n  'https://www.linkedin.com/company/davincitech/',\n  'https://www.linkedin.com/company/pumpup/',\n  'https://www.linkedin.com/company/lytro-inc/',\n  'https://www.linkedin.com/company/adometry/'],\n 50)"
     },
     "metadata": {},
     "execution_count": 61
    }
   ],
   "source": [
    "html = web.find_element_by_tag_name('html')\n",
    "html.send_keys(Keys.END)\n",
    "time.sleep(3)\n",
    "libutspan = [i.text for i in web.find_elements_by_css_selector(\"li button span\")]\n",
    "pageno = list(filter(lambda x:re.findall(\"\\d+\",x),libutspan))[-1]\n",
    "\n",
    "nxt = web.find_elements_by_xpath(\"//span[@class='artdeco-button__text']\")\n",
    "\n",
    "depth = 5\n",
    "if int(pageno) < depth:\n",
    "    depth = pageno\n",
    "\n",
    "for i in range(depth):\n",
    "    print(f\"page :{i}\")\n",
    "    #html = web.find_element_by_tag_name('html')\n",
    "    #html.send_keys(Keys.END)\n",
    " \n",
    "    li = web.find_elements_by_xpath(\"//a[@class='app-aware-link ember-view']\")\n",
    "    links += [i.get_attribute(\"href\") for i in li][::2]\n",
    "    nxt = web.find_elements_by_xpath(\"//span[@class='artdeco-button__text']\")\n",
    "    print([i.text for i in nxt])\n",
    "    time.sleep(3)\n",
    "    nxt[-2].click()\n",
    "    html = web.find_element_by_tag_name('html')\n",
    "    html.send_keys(Keys.END)\n",
    "    time.sleep(3)\n",
    "\n",
    "links,len(links)"
   ]
  },
  {
   "cell_type": "code",
   "execution_count": 49,
   "metadata": {},
   "outputs": [
    {
     "output_type": "execute_result",
     "data": {
      "text/plain": "['',\n '',\n 'Follow',\n 'Follow',\n 'Follow',\n 'Follow',\n 'Follow',\n 'Follow',\n 'Follow',\n 'Follow',\n 'Follow',\n 'Follow',\n 'Compose message']"
     },
     "metadata": {},
     "execution_count": 49
    }
   ],
   "source": [
    "nxt = web.find_elements_by_xpath(\"//span[@class='artdeco-button__text']\") \n",
    "[i.text for i in nxt]"
   ]
  },
  {
   "cell_type": "code",
   "execution_count": 48,
   "metadata": {},
   "outputs": [
    {
     "output_type": "error",
     "ename": "StaleElementReferenceException",
     "evalue": "Message: stale element reference: element is not attached to the page document\n  (Session info: chrome=84.0.4147.105)\n",
     "traceback": [
      "\u001b[0;31m---------------------------------------------------------------------------\u001b[0m",
      "\u001b[0;31mStaleElementReferenceException\u001b[0m            Traceback (most recent call last)",
      "\u001b[0;32m<ipython-input-48-ba676d16f701>\u001b[0m in \u001b[0;36m<module>\u001b[0;34m\u001b[0m\n\u001b[0;32m----> 1\u001b[0;31m \u001b[0mhtml\u001b[0m\u001b[0;34m.\u001b[0m\u001b[0msend_keys\u001b[0m\u001b[0;34m(\u001b[0m\u001b[0mKeys\u001b[0m\u001b[0;34m.\u001b[0m\u001b[0mEND\u001b[0m\u001b[0;34m)\u001b[0m\u001b[0;34m\u001b[0m\u001b[0;34m\u001b[0m\u001b[0m\n\u001b[0m\u001b[1;32m      2\u001b[0m \u001b[0mtime\u001b[0m\u001b[0;34m.\u001b[0m\u001b[0msleep\u001b[0m\u001b[0;34m(\u001b[0m\u001b[0;36m3\u001b[0m\u001b[0;34m)\u001b[0m\u001b[0;34m\u001b[0m\u001b[0;34m\u001b[0m\u001b[0m\n\u001b[1;32m      3\u001b[0m \u001b[0mnxt\u001b[0m\u001b[0;34m[\u001b[0m\u001b[0;34m-\u001b[0m\u001b[0;36m2\u001b[0m\u001b[0;34m]\u001b[0m\u001b[0;34m.\u001b[0m\u001b[0mclick\u001b[0m\u001b[0;34m(\u001b[0m\u001b[0;34m)\u001b[0m\u001b[0;34m\u001b[0m\u001b[0;34m\u001b[0m\u001b[0m\n",
      "\u001b[0;32m~/anaconda3/envs/Scrappy/lib/python3.8/site-packages/selenium/webdriver/remote/webelement.py\u001b[0m in \u001b[0;36msend_keys\u001b[0;34m(self, *value)\u001b[0m\n\u001b[1;32m    475\u001b[0m                 \u001b[0mvalue\u001b[0m \u001b[0;34m=\u001b[0m \u001b[0mself\u001b[0m\u001b[0;34m.\u001b[0m\u001b[0m_upload\u001b[0m\u001b[0;34m(\u001b[0m\u001b[0mlocal_file\u001b[0m\u001b[0;34m)\u001b[0m\u001b[0;34m\u001b[0m\u001b[0;34m\u001b[0m\u001b[0m\n\u001b[1;32m    476\u001b[0m \u001b[0;34m\u001b[0m\u001b[0m\n\u001b[0;32m--> 477\u001b[0;31m         self._execute(Command.SEND_KEYS_TO_ELEMENT,\n\u001b[0m\u001b[1;32m    478\u001b[0m                       {'text': \"\".join(keys_to_typing(value)),\n\u001b[1;32m    479\u001b[0m                        'value': keys_to_typing(value)})\n",
      "\u001b[0;32m~/anaconda3/envs/Scrappy/lib/python3.8/site-packages/selenium/webdriver/remote/webelement.py\u001b[0m in \u001b[0;36m_execute\u001b[0;34m(self, command, params)\u001b[0m\n\u001b[1;32m    631\u001b[0m             \u001b[0mparams\u001b[0m \u001b[0;34m=\u001b[0m \u001b[0;34m{\u001b[0m\u001b[0;34m}\u001b[0m\u001b[0;34m\u001b[0m\u001b[0;34m\u001b[0m\u001b[0m\n\u001b[1;32m    632\u001b[0m         \u001b[0mparams\u001b[0m\u001b[0;34m[\u001b[0m\u001b[0;34m'id'\u001b[0m\u001b[0;34m]\u001b[0m \u001b[0;34m=\u001b[0m \u001b[0mself\u001b[0m\u001b[0;34m.\u001b[0m\u001b[0m_id\u001b[0m\u001b[0;34m\u001b[0m\u001b[0;34m\u001b[0m\u001b[0m\n\u001b[0;32m--> 633\u001b[0;31m         \u001b[0;32mreturn\u001b[0m \u001b[0mself\u001b[0m\u001b[0;34m.\u001b[0m\u001b[0m_parent\u001b[0m\u001b[0;34m.\u001b[0m\u001b[0mexecute\u001b[0m\u001b[0;34m(\u001b[0m\u001b[0mcommand\u001b[0m\u001b[0;34m,\u001b[0m \u001b[0mparams\u001b[0m\u001b[0;34m)\u001b[0m\u001b[0;34m\u001b[0m\u001b[0;34m\u001b[0m\u001b[0m\n\u001b[0m\u001b[1;32m    634\u001b[0m \u001b[0;34m\u001b[0m\u001b[0m\n\u001b[1;32m    635\u001b[0m     \u001b[0;32mdef\u001b[0m \u001b[0mfind_element\u001b[0m\u001b[0;34m(\u001b[0m\u001b[0mself\u001b[0m\u001b[0;34m,\u001b[0m \u001b[0mby\u001b[0m\u001b[0;34m=\u001b[0m\u001b[0mBy\u001b[0m\u001b[0;34m.\u001b[0m\u001b[0mID\u001b[0m\u001b[0;34m,\u001b[0m \u001b[0mvalue\u001b[0m\u001b[0;34m=\u001b[0m\u001b[0;32mNone\u001b[0m\u001b[0;34m)\u001b[0m\u001b[0;34m:\u001b[0m\u001b[0;34m\u001b[0m\u001b[0;34m\u001b[0m\u001b[0m\n",
      "\u001b[0;32m~/anaconda3/envs/Scrappy/lib/python3.8/site-packages/selenium/webdriver/remote/webdriver.py\u001b[0m in \u001b[0;36mexecute\u001b[0;34m(self, driver_command, params)\u001b[0m\n\u001b[1;32m    319\u001b[0m         \u001b[0mresponse\u001b[0m \u001b[0;34m=\u001b[0m \u001b[0mself\u001b[0m\u001b[0;34m.\u001b[0m\u001b[0mcommand_executor\u001b[0m\u001b[0;34m.\u001b[0m\u001b[0mexecute\u001b[0m\u001b[0;34m(\u001b[0m\u001b[0mdriver_command\u001b[0m\u001b[0;34m,\u001b[0m \u001b[0mparams\u001b[0m\u001b[0;34m)\u001b[0m\u001b[0;34m\u001b[0m\u001b[0;34m\u001b[0m\u001b[0m\n\u001b[1;32m    320\u001b[0m         \u001b[0;32mif\u001b[0m \u001b[0mresponse\u001b[0m\u001b[0;34m:\u001b[0m\u001b[0;34m\u001b[0m\u001b[0;34m\u001b[0m\u001b[0m\n\u001b[0;32m--> 321\u001b[0;31m             \u001b[0mself\u001b[0m\u001b[0;34m.\u001b[0m\u001b[0merror_handler\u001b[0m\u001b[0;34m.\u001b[0m\u001b[0mcheck_response\u001b[0m\u001b[0;34m(\u001b[0m\u001b[0mresponse\u001b[0m\u001b[0;34m)\u001b[0m\u001b[0;34m\u001b[0m\u001b[0;34m\u001b[0m\u001b[0m\n\u001b[0m\u001b[1;32m    322\u001b[0m             response['value'] = self._unwrap_value(\n\u001b[1;32m    323\u001b[0m                 response.get('value', None))\n",
      "\u001b[0;32m~/anaconda3/envs/Scrappy/lib/python3.8/site-packages/selenium/webdriver/remote/errorhandler.py\u001b[0m in \u001b[0;36mcheck_response\u001b[0;34m(self, response)\u001b[0m\n\u001b[1;32m    240\u001b[0m                 \u001b[0malert_text\u001b[0m \u001b[0;34m=\u001b[0m \u001b[0mvalue\u001b[0m\u001b[0;34m[\u001b[0m\u001b[0;34m'alert'\u001b[0m\u001b[0;34m]\u001b[0m\u001b[0;34m.\u001b[0m\u001b[0mget\u001b[0m\u001b[0;34m(\u001b[0m\u001b[0;34m'text'\u001b[0m\u001b[0;34m)\u001b[0m\u001b[0;34m\u001b[0m\u001b[0;34m\u001b[0m\u001b[0m\n\u001b[1;32m    241\u001b[0m             \u001b[0;32mraise\u001b[0m \u001b[0mexception_class\u001b[0m\u001b[0;34m(\u001b[0m\u001b[0mmessage\u001b[0m\u001b[0;34m,\u001b[0m \u001b[0mscreen\u001b[0m\u001b[0;34m,\u001b[0m \u001b[0mstacktrace\u001b[0m\u001b[0;34m,\u001b[0m \u001b[0malert_text\u001b[0m\u001b[0;34m)\u001b[0m\u001b[0;34m\u001b[0m\u001b[0;34m\u001b[0m\u001b[0m\n\u001b[0;32m--> 242\u001b[0;31m         \u001b[0;32mraise\u001b[0m \u001b[0mexception_class\u001b[0m\u001b[0;34m(\u001b[0m\u001b[0mmessage\u001b[0m\u001b[0;34m,\u001b[0m \u001b[0mscreen\u001b[0m\u001b[0;34m,\u001b[0m \u001b[0mstacktrace\u001b[0m\u001b[0;34m)\u001b[0m\u001b[0;34m\u001b[0m\u001b[0;34m\u001b[0m\u001b[0m\n\u001b[0m\u001b[1;32m    243\u001b[0m \u001b[0;34m\u001b[0m\u001b[0m\n\u001b[1;32m    244\u001b[0m     \u001b[0;32mdef\u001b[0m \u001b[0m_value_or_default\u001b[0m\u001b[0;34m(\u001b[0m\u001b[0mself\u001b[0m\u001b[0;34m,\u001b[0m \u001b[0mobj\u001b[0m\u001b[0;34m,\u001b[0m \u001b[0mkey\u001b[0m\u001b[0;34m,\u001b[0m \u001b[0mdefault\u001b[0m\u001b[0;34m)\u001b[0m\u001b[0;34m:\u001b[0m\u001b[0;34m\u001b[0m\u001b[0;34m\u001b[0m\u001b[0m\n",
      "\u001b[0;31mStaleElementReferenceException\u001b[0m: Message: stale element reference: element is not attached to the page document\n  (Session info: chrome=84.0.4147.105)\n"
     ]
    }
   ],
   "source": [
    "html.send_keys(Keys.END)\n",
    "time.sleep(3)\n",
    "nxt[-2].click()"
   ]
  },
  {
   "cell_type": "code",
   "execution_count": 29,
   "metadata": {
    "tags": []
   },
   "outputs": [
    {
     "output_type": "error",
     "ename": "AttributeError",
     "evalue": "'WebElement' object has no attribute 'href'",
     "traceback": [
      "\u001b[0;31m---------------------------------------------------------------------------\u001b[0m",
      "\u001b[0;31mAttributeError\u001b[0m                            Traceback (most recent call last)",
      "\u001b[0;32m<ipython-input-29-bab5ff5582b8>\u001b[0m in \u001b[0;36m<module>\u001b[0;34m\u001b[0m\n\u001b[1;32m      1\u001b[0m \u001b[0;32mfor\u001b[0m \u001b[0mi\u001b[0m \u001b[0;32min\u001b[0m \u001b[0mli\u001b[0m\u001b[0;34m:\u001b[0m\u001b[0;34m\u001b[0m\u001b[0;34m\u001b[0m\u001b[0m\n\u001b[0;32m----> 2\u001b[0;31m     \u001b[0mprint\u001b[0m\u001b[0;34m(\u001b[0m\u001b[0;34m\"-\"\u001b[0m\u001b[0;34m,\u001b[0m\u001b[0mi\u001b[0m\u001b[0;34m.\u001b[0m\u001b[0mhref\u001b[0m\u001b[0;34m)\u001b[0m\u001b[0;34m\u001b[0m\u001b[0;34m\u001b[0m\u001b[0m\n\u001b[0m",
      "\u001b[0;31mAttributeError\u001b[0m: 'WebElement' object has no attribute 'href'"
     ]
    }
   ],
   "source": [
    "for i in li:\n",
    "    print(\"-\",i.get)"
   ]
  },
  {
   "cell_type": "code",
   "execution_count": 39,
   "metadata": {},
   "outputs": [],
   "source": [
    "web.close()"
   ]
  },
  {
   "cell_type": "code",
   "execution_count": null,
   "metadata": {},
   "outputs": [],
   "source": []
  }
 ]
}