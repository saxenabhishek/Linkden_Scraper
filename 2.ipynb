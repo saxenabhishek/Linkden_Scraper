{
 "metadata": {
  "language_info": {
   "codemirror_mode": {
    "name": "ipython",
    "version": 3
   },
   "file_extension": ".py",
   "mimetype": "text/x-python",
   "name": "python",
   "nbconvert_exporter": "python",
   "pygments_lexer": "ipython3",
   "version": "3.8.5-final"
  },
  "orig_nbformat": 2,
  "kernelspec": {
   "name": "python38564bitscrappyconda0e1478eaa91247eaaadbc622b86e55ca",
   "display_name": "Python 3.8.5 64-bit ('Scrappy': conda)"
  }
 },
 "nbformat": 4,
 "nbformat_minor": 2,
 "cells": [
  {
   "cell_type": "code",
   "execution_count": 242,
   "metadata": {},
   "outputs": [],
   "source": [
    "from selenium import webdriver\n",
    "from pathlib import Path\n",
    "import pickle\n",
    "import time\n",
    "\n",
    "import re\n",
    "from selenium.webdriver.common.keys import Keys\n"
   ]
  },
  {
   "cell_type": "code",
   "execution_count": 243,
   "metadata": {},
   "outputs": [],
   "source": [
    "web = webdriver.Chrome(\"/home/kaafibored/Projects/Linkden_Scraper/chromedriver\")"
   ]
  },
  {
   "cell_type": "code",
   "execution_count": 244,
   "metadata": {},
   "outputs": [],
   "source": [
    "cookiepath = \"/home/kaafibored/Projects/Linkden_Scraper/\"\n",
    "web.get(\"https://www.linkedin.com\")\n",
    "cookies = pickle.load(open(cookiepath + \"cookies.pkl\", \"rb\"))\n",
    "for cookie in cookies:\n",
    "    web.add_cookie(cookie)"
   ]
  },
  {
   "cell_type": "code",
   "execution_count": 248,
   "metadata": {},
   "outputs": [],
   "source": [
    "links = [] \n",
    "web.get(\"https://www.linkedin.com/search/results/people/?keywords=CSR\")\n",
    "web.maximize_window()"
   ]
  },
  {
   "cell_type": "code",
   "execution_count": 249,
   "metadata": {
    "tags": []
   },
   "outputs": [
    {
     "output_type": "execute_result",
     "data": {
      "text/plain": "(['https://www.linkedin.com/in/kotharivikram/',\n  'https://www.linkedin.com/in/debdoot-mohanty-64087871/',\n  'https://www.linkedin.com/in/nayantara-nath-741700a3/',\n  'https://www.linkedin.com/in/paras-kumar-38475612a/',\n  'https://www.linkedin.com/in/avijit-raju-3951a118/',\n  'https://www.linkedin.com/in/nusrat-pathan-019b5631/',\n  'https://www.linkedin.com/in/brahmjeet-kohli-27554788/',\n  'https://www.linkedin.com/in/niki-das-076198135/',\n  'https://www.linkedin.com/in/jyoti-rani-a5757724/',\n  'https://www.linkedin.com/in/sakshigrover/',\n  'https://www.linkedin.com/in/aishani-phukan-869080141/',\n  'https://www.linkedin.com/in/monalisha-ghosh-37746940/',\n  'https://www.linkedin.com/in/sandeep-kalura-5965b6b2/',\n  'https://www.linkedin.com/in/niyati-mehta-16338727/',\n  'https://www.linkedin.com/in/arun-kumar-2006468b/',\n  'https://www.linkedin.com/in/sushil-bhatla-39865a128/',\n  'https://www.linkedin.com/in/uma-agrawal-a12869b1/',\n  'https://www.linkedin.com/in/sanjay-kumar-b3312479/',\n  'https://www.linkedin.com/in/fkcci-csr-12949b164/'],\n 19)"
     },
     "metadata": {},
     "execution_count": 249
    }
   ],
   "source": [
    "html = web.find_element_by_tag_name('html')\n",
    "html.send_keys(Keys.END)\n",
    "\n",
    "time.sleep(1)\n",
    "libutspan = [i.text for i in web.find_elements_by_css_selector(\"li button span\")]\n",
    "pageno = list(filter(lambda x:re.findall(\"\\d+\",x),libutspan))[-1]\n",
    "\n",
    "depth = 2\n",
    "\n",
    "if int(pageno) < depth:\n",
    "    depth = pageno\n",
    "\n",
    "for i in range(depth):\n",
    "    time.sleep(2)\n",
    "    html = web.find_element_by_tag_name('html')\n",
    "    html.send_keys(Keys.END)\n",
    "    time.sleep(5)\n",
    "    li = web.find_elements_by_xpath(\"//a[@class='search-result__result-link ember-view']\")\n",
    "    links += [i.get_attribute(\"href\") for i in li][::2]\n",
    "    nxt = web.find_elements_by_xpath(\"//span[@class='artdeco-button__text']\")\n",
    "    nxt[-2].click()\n",
    "    \n",
    "    \n",
    "\n",
    "links,len(links)"
   ]
  },
  {
   "cell_type": "code",
   "execution_count": 250,
   "metadata": {},
   "outputs": [],
   "source": [
    "import pandas as pd\n",
    "\n",
    "df = pd.DataFrame({\"Links\":links})\n",
    "df.to_csv(\"/home/kaafibored/Projects/Linkden_Scraper/Links.csv\",index = False)"
   ]
  },
  {
   "cell_type": "code",
   "execution_count": 251,
   "metadata": {},
   "outputs": [],
   "source": [
    "readlinka = pd.read_csv(\"/home/kaafibored/Projects/Linkden_Scraper/Links.csv\",)"
   ]
  },
  {
   "cell_type": "code",
   "execution_count": 254,
   "metadata": {},
   "outputs": [],
   "source": [
    "info={\n",
    "    'name':[],\n",
    "    'pos':[],\n",
    "    'adr':[],\n",
    "    'links':[],\n",
    "    'span':[],\n",
    "    'head':[]   \n",
    "}"
   ]
  },
  {
   "cell_type": "code",
   "execution_count": 260,
   "metadata": {},
   "outputs": [
    {
     "output_type": "execute_result",
     "data": {
      "text/plain": "{'name': [None,\n  None,\n  None,\n  None,\n  None,\n  None,\n  None,\n  None,\n  None,\n  None,\n  'Kothari V.',\n  'Debdoot Mohanty',\n  'Nayantara Nath',\n  'Paras kumar',\n  'Avijit Raju'],\n 'pos': [None,\n  None,\n  None,\n  None,\n  None,\n  None,\n  None,\n  None,\n  None,\n  None,\n  'Partnerships at Synergie [CSR & Sustainability]',\n  'Head, CSR Tata Steel',\n  'CSR Investments at Cisco',\n  'CSR at Amazon',\n  'Head CSR at Hindalco Industries Limited'],\n 'adr': [None,\n  None,\n  None,\n  None,\n  None,\n  None,\n  None,\n  None,\n  None,\n  None,\n  'Noida, Uttar Pradesh, India',\n  'Jamshedpur Area, India',\n  '',\n  'Meerut, Uttar Pradesh, India',\n  'India'],\n 'links': [['https://www.linkedin.com/in/kotharivikram'],\n  ['https://www.linkedin.com/in/debdoot-mohanty-64087871'],\n  ['https://www.linkedin.com/in/nayantara-nath-741700a3'],\n  ['https://www.linkedin.com/in/paras-kumar-38475612a',\n   'mailto:paras.kumar505@gmail.com'],\n  ['https://www.linkedin.com/in/avijit-raju-3951a118'],\n  ['https://www.linkedin.com/in/nusrat-pathan-019b5631'],\n  ['https://www.linkedin.com/in/brahmjeet-kohli-27554788'],\n  [],\n  ['https://www.linkedin.com/in/jyoti-rani-a5757724'],\n  ['https://www.linkedin.com/in/sakshigrover'],\n  ['https://www.linkedin.com/in/kotharivikram'],\n  ['https://www.linkedin.com/in/debdoot-mohanty-64087871'],\n  ['https://www.linkedin.com/in/nayantara-nath-741700a3'],\n  ['https://www.linkedin.com/in/paras-kumar-38475612a',\n   'mailto:paras.kumar505@gmail.com'],\n  ['https://www.linkedin.com/in/avijit-raju-3951a118']],\n 'span': [[], [], [], [], [], [], [], [], ['July 1'], [], [], [], [], [], []],\n 'head': [['Kothari’s Profile'],\n  ['Debdoot’s Profile'],\n  ['Nayantara’s Profile'],\n  ['Paras’ Profile', 'Email'],\n  ['Avijit’s Profile'],\n  ['Nusrat’s Profile'],\n  ['Brahmjeet’s Profile'],\n  [],\n  ['Jyoti’s Profile', 'Birthday'],\n  ['Sakshi’s Profile'],\n  ['Kothari’s Profile'],\n  ['Debdoot’s Profile'],\n  ['Nayantara’s Profile'],\n  ['Paras’ Profile', 'Email'],\n  ['Avijit’s Profile']]}"
     },
     "metadata": {},
     "execution_count": 260
    }
   ],
   "source": [
    "\n",
    "for i in readlinka.Links.values[:5]:\n",
    "    web.get(i)\n",
    "    A = web.find_elements_by_css_selector(\"li[class = 'inline t-24 t-black t-normal break-words']\")\n",
    "    B = web.find_elements_by_css_selector(\"h2[class='mt1 t-18 t-black t-normal break-words']\")\n",
    "    C = web.find_elements_by_css_selector(\"li[class='t-16 t-black t-normal inline-block']\")\n",
    "    web.find_element_by_css_selector(\"span[class='t-16 t-bold']\").click()\n",
    "    time.sleep(2)\n",
    "    D = [i.get_attribute(\"href\") for i in web.find_elements_by_css_selector(\"div[class='pv-profile-section__section-info section-info'] a:link\")]\n",
    "    E = [i.text for i in web.find_elements_by_css_selector(\"div[class='pv-profile-section__section-info section-info'] span\")]\n",
    "    F = [i.text for i in web.find_elements_by_css_selector(\"div[class='pv-profile-section__section-info section-info'] header\")]\n",
    "\n",
    "    def lam(a):\n",
    "        if len(a) == 0:\n",
    "            return \"\"\n",
    "        else:\n",
    "            return a[0].text\n",
    "    \n",
    "    A, B, C = map(lam,(A,B,C))\n",
    "\n",
    "    info[\"name\"].append(A)\n",
    "    info[\"pos\"].append(B)\n",
    "    info[\"adr\"].append(C)\n",
    "    info[\"links\"].append(D)\n",
    "    info[\"span\"].append(E)\n",
    "    info[\"head\"].append(F)\n",
    "\n",
    "info\n"
   ]
  },
  {
   "cell_type": "code",
   "execution_count": 263,
   "metadata": {},
   "outputs": [
    {
     "output_type": "execute_result",
     "data": {
      "text/plain": "               name                                              pos  \\\n0              None                                             None   \n1              None                                             None   \n2              None                                             None   \n3              None                                             None   \n4              None                                             None   \n5              None                                             None   \n6              None                                             None   \n7              None                                             None   \n8              None                                             None   \n9              None                                             None   \n10       Kothari V.  Partnerships at Synergie [CSR & Sustainability]   \n11  Debdoot Mohanty                             Head, CSR Tata Steel   \n12   Nayantara Nath                         CSR Investments at Cisco   \n13      Paras kumar                                    CSR at Amazon   \n14      Avijit Raju          Head CSR at Hindalco Industries Limited   \n\n                             adr  \\\n0                           None   \n1                           None   \n2                           None   \n3                           None   \n4                           None   \n5                           None   \n6                           None   \n7                           None   \n8                           None   \n9                           None   \n10   Noida, Uttar Pradesh, India   \n11        Jamshedpur Area, India   \n12                                 \n13  Meerut, Uttar Pradesh, India   \n14                         India   \n\n                                                links      span  \\\n0         [https://www.linkedin.com/in/kotharivikram]        []   \n1   [https://www.linkedin.com/in/debdoot-mohanty-6...        []   \n2   [https://www.linkedin.com/in/nayantara-nath-74...        []   \n3   [https://www.linkedin.com/in/paras-kumar-38475...        []   \n4   [https://www.linkedin.com/in/avijit-raju-3951a...        []   \n5   [https://www.linkedin.com/in/nusrat-pathan-019...        []   \n6   [https://www.linkedin.com/in/brahmjeet-kohli-2...        []   \n7                                                  []        []   \n8   [https://www.linkedin.com/in/jyoti-rani-a5757724]  [July 1]   \n9          [https://www.linkedin.com/in/sakshigrover]        []   \n10        [https://www.linkedin.com/in/kotharivikram]        []   \n11  [https://www.linkedin.com/in/debdoot-mohanty-6...        []   \n12  [https://www.linkedin.com/in/nayantara-nath-74...        []   \n13  [https://www.linkedin.com/in/paras-kumar-38475...        []   \n14  [https://www.linkedin.com/in/avijit-raju-3951a...        []   \n\n                           head  \n0           [Kothari’s Profile]  \n1           [Debdoot’s Profile]  \n2         [Nayantara’s Profile]  \n3       [Paras’ Profile, Email]  \n4            [Avijit’s Profile]  \n5            [Nusrat’s Profile]  \n6         [Brahmjeet’s Profile]  \n7                            []  \n8   [Jyoti’s Profile, Birthday]  \n9            [Sakshi’s Profile]  \n10          [Kothari’s Profile]  \n11          [Debdoot’s Profile]  \n12        [Nayantara’s Profile]  \n13      [Paras’ Profile, Email]  \n14           [Avijit’s Profile]  ",
      "text/html": "<div>\n<style scoped>\n    .dataframe tbody tr th:only-of-type {\n        vertical-align: middle;\n    }\n\n    .dataframe tbody tr th {\n        vertical-align: top;\n    }\n\n    .dataframe thead th {\n        text-align: right;\n    }\n</style>\n<table border=\"1\" class=\"dataframe\">\n  <thead>\n    <tr style=\"text-align: right;\">\n      <th></th>\n      <th>name</th>\n      <th>pos</th>\n      <th>adr</th>\n      <th>links</th>\n      <th>span</th>\n      <th>head</th>\n    </tr>\n  </thead>\n  <tbody>\n    <tr>\n      <th>0</th>\n      <td>None</td>\n      <td>None</td>\n      <td>None</td>\n      <td>[https://www.linkedin.com/in/kotharivikram]</td>\n      <td>[]</td>\n      <td>[Kothari’s Profile]</td>\n    </tr>\n    <tr>\n      <th>1</th>\n      <td>None</td>\n      <td>None</td>\n      <td>None</td>\n      <td>[https://www.linkedin.com/in/debdoot-mohanty-6...</td>\n      <td>[]</td>\n      <td>[Debdoot’s Profile]</td>\n    </tr>\n    <tr>\n      <th>2</th>\n      <td>None</td>\n      <td>None</td>\n      <td>None</td>\n      <td>[https://www.linkedin.com/in/nayantara-nath-74...</td>\n      <td>[]</td>\n      <td>[Nayantara’s Profile]</td>\n    </tr>\n    <tr>\n      <th>3</th>\n      <td>None</td>\n      <td>None</td>\n      <td>None</td>\n      <td>[https://www.linkedin.com/in/paras-kumar-38475...</td>\n      <td>[]</td>\n      <td>[Paras’ Profile, Email]</td>\n    </tr>\n    <tr>\n      <th>4</th>\n      <td>None</td>\n      <td>None</td>\n      <td>None</td>\n      <td>[https://www.linkedin.com/in/avijit-raju-3951a...</td>\n      <td>[]</td>\n      <td>[Avijit’s Profile]</td>\n    </tr>\n    <tr>\n      <th>5</th>\n      <td>None</td>\n      <td>None</td>\n      <td>None</td>\n      <td>[https://www.linkedin.com/in/nusrat-pathan-019...</td>\n      <td>[]</td>\n      <td>[Nusrat’s Profile]</td>\n    </tr>\n    <tr>\n      <th>6</th>\n      <td>None</td>\n      <td>None</td>\n      <td>None</td>\n      <td>[https://www.linkedin.com/in/brahmjeet-kohli-2...</td>\n      <td>[]</td>\n      <td>[Brahmjeet’s Profile]</td>\n    </tr>\n    <tr>\n      <th>7</th>\n      <td>None</td>\n      <td>None</td>\n      <td>None</td>\n      <td>[]</td>\n      <td>[]</td>\n      <td>[]</td>\n    </tr>\n    <tr>\n      <th>8</th>\n      <td>None</td>\n      <td>None</td>\n      <td>None</td>\n      <td>[https://www.linkedin.com/in/jyoti-rani-a5757724]</td>\n      <td>[July 1]</td>\n      <td>[Jyoti’s Profile, Birthday]</td>\n    </tr>\n    <tr>\n      <th>9</th>\n      <td>None</td>\n      <td>None</td>\n      <td>None</td>\n      <td>[https://www.linkedin.com/in/sakshigrover]</td>\n      <td>[]</td>\n      <td>[Sakshi’s Profile]</td>\n    </tr>\n    <tr>\n      <th>10</th>\n      <td>Kothari V.</td>\n      <td>Partnerships at Synergie [CSR &amp; Sustainability]</td>\n      <td>Noida, Uttar Pradesh, India</td>\n      <td>[https://www.linkedin.com/in/kotharivikram]</td>\n      <td>[]</td>\n      <td>[Kothari’s Profile]</td>\n    </tr>\n    <tr>\n      <th>11</th>\n      <td>Debdoot Mohanty</td>\n      <td>Head, CSR Tata Steel</td>\n      <td>Jamshedpur Area, India</td>\n      <td>[https://www.linkedin.com/in/debdoot-mohanty-6...</td>\n      <td>[]</td>\n      <td>[Debdoot’s Profile]</td>\n    </tr>\n    <tr>\n      <th>12</th>\n      <td>Nayantara Nath</td>\n      <td>CSR Investments at Cisco</td>\n      <td></td>\n      <td>[https://www.linkedin.com/in/nayantara-nath-74...</td>\n      <td>[]</td>\n      <td>[Nayantara’s Profile]</td>\n    </tr>\n    <tr>\n      <th>13</th>\n      <td>Paras kumar</td>\n      <td>CSR at Amazon</td>\n      <td>Meerut, Uttar Pradesh, India</td>\n      <td>[https://www.linkedin.com/in/paras-kumar-38475...</td>\n      <td>[]</td>\n      <td>[Paras’ Profile, Email]</td>\n    </tr>\n    <tr>\n      <th>14</th>\n      <td>Avijit Raju</td>\n      <td>Head CSR at Hindalco Industries Limited</td>\n      <td>India</td>\n      <td>[https://www.linkedin.com/in/avijit-raju-3951a...</td>\n      <td>[]</td>\n      <td>[Avijit’s Profile]</td>\n    </tr>\n  </tbody>\n</table>\n</div>"
     },
     "metadata": {},
     "execution_count": 263
    }
   ],
   "source": [
    "pd.DataFrame(info)"
   ]
  },
  {
   "cell_type": "code",
   "execution_count": null,
   "metadata": {},
   "outputs": [],
   "source": []
  },
  {
   "cell_type": "code",
   "execution_count": 264,
   "metadata": {},
   "outputs": [],
   "source": [
    "web.close()"
   ]
  },
  {
   "cell_type": "code",
   "execution_count": null,
   "metadata": {},
   "outputs": [],
   "source": []
  }
 ]
}